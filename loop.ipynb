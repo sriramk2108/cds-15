{
 "cells": [
  {
   "cell_type": "markdown",
   "id": "70e9ff82-8f6e-4b3b-adde-8e164cbac1cd",
   "metadata": {},
   "source": [
    "# loops"
   ]
  },
  {
   "cell_type": "markdown",
   "id": "3d2c9884-b617-48e4-9953-bdbc66034044",
   "metadata": {},
   "source": [
    "## for loop"
   ]
  },
  {
   "cell_type": "code",
   "execution_count": 60,
   "id": "51a1e4a7-49d0-4647-be4a-d0699bb4161a",
   "metadata": {},
   "outputs": [
    {
     "name": "stdout",
     "output_type": "stream",
     "text": [
      "pizza\n",
      "burger\n",
      "donut\n",
      "chocolate\n",
      "have a nice day\n"
     ]
    }
   ],
   "source": [
    "snacks = [\"pizza\",\"burger\",\"donut\",\"chocolate\"]\n",
    "for i in snacks :\n",
    "    print(i)\n",
    "print(\"have a nice day\")    "
   ]
  },
  {
   "cell_type": "code",
   "execution_count": null,
   "id": "39c60ecf-458b-4900-aa58-68cecd4ec732",
   "metadata": {},
   "outputs": [],
   "source": [
    "n = \"gunna bhai\"\n",
    "for n in n :\n",
    "    print(n)"
   ]
  },
  {
   "cell_type": "code",
   "execution_count": null,
   "id": "1b046986-dcd6-4671-beec-09664bfad6f8",
   "metadata": {},
   "outputs": [],
   "source": [
    "n =[2,3,4,5]\n",
    "for i in n :\n",
    "    print(i*2)"
   ]
  },
  {
   "cell_type": "code",
   "execution_count": null,
   "id": "238b15ce-091b-4cb0-932d-851f48c557ae",
   "metadata": {},
   "outputs": [],
   "source": [
    "c = [1,2,3,4,5,6,7,8,9,10]\n",
    "for i in c:\n",
    "    if i % 2 == 0 :\n",
    "        print(i,\"is even number\")\n",
    "    else :\n",
    "        print(i,\"is odd number\")"
   ]
  },
  {
   "cell_type": "markdown",
   "id": "bf1348e5-2bd1-446c-aea1-aad7fdc45e8c",
   "metadata": {},
   "source": [
    " # 1 -8 - 2024"
   ]
  },
  {
   "cell_type": "markdown",
   "id": "32c1958d-e6df-4dcf-85c6-88fcc1545c88",
   "metadata": {},
   "source": [
    "## range generator"
   ]
  },
  {
   "cell_type": "code",
   "execution_count": 1,
   "id": "92821089-dd23-4442-87f0-9d2eff82f6c6",
   "metadata": {},
   "outputs": [
    {
     "name": "stdout",
     "output_type": "stream",
     "text": [
      "hello\n",
      "hello\n",
      "hello\n"
     ]
    }
   ],
   "source": [
    " for i in range (3):\n",
    "     print(\"hello\")"
   ]
  },
  {
   "cell_type": "code",
   "execution_count": 3,
   "id": "b9f65456-6fda-44cc-9da0-58132dc9f00f",
   "metadata": {},
   "outputs": [
    {
     "name": "stdout",
     "output_type": "stream",
     "text": [
      "0\n",
      "1\n",
      "2\n",
      "3\n",
      "4\n",
      "5\n",
      "6\n",
      "7\n",
      "8\n",
      "9\n"
     ]
    }
   ],
   "source": [
    "for i in range(0,10):\n",
    "    print(i)"
   ]
  },
  {
   "cell_type": "code",
   "execution_count": 5,
   "id": "b6023b41-2bc2-4018-8a42-c89a5b42762f",
   "metadata": {},
   "outputs": [
    {
     "name": "stdout",
     "output_type": "stream",
     "text": [
      "0\n",
      "2\n",
      "4\n",
      "6\n",
      "8\n",
      "10\n",
      "12\n",
      "14\n",
      "16\n",
      "18\n"
     ]
    }
   ],
   "source": [
    "for i in range(0,20,2):\n",
    "    print(i)"
   ]
  },
  {
   "cell_type": "code",
   "execution_count": 7,
   "id": "084643eb-a509-494a-a069-ef738345fefd",
   "metadata": {},
   "outputs": [
    {
     "name": "stdin",
     "output_type": "stream",
     "text": [
      " enter the number 1\n"
     ]
    },
    {
     "name": "stdout",
     "output_type": "stream",
     "text": [
      "1\n",
      "2\n",
      "3\n",
      "4\n",
      "5\n",
      "6\n",
      "7\n",
      "8\n",
      "9\n",
      "10\n"
     ]
    }
   ],
   "source": [
    "a = int(input(\" enter the number\"))\n",
    "for i in range (1,11):\n",
    "    print(i*a)"
   ]
  },
  {
   "cell_type": "markdown",
   "id": "a7ca23cd-ae94-48b2-8f6e-eef8537b8a3f",
   "metadata": {},
   "source": [
    "# nested for loop"
   ]
  },
  {
   "cell_type": "code",
   "execution_count": null,
   "id": "0b8f5afa-c564-4a2d-955b-8395cf22f2c5",
   "metadata": {},
   "outputs": [],
   "source": [
    "a = [\"red\",\"blue\",\"green\",\"orange\"]\n",
    "b = [\"apples\",\"bananas\",\"grapes\",\"oranges\"]\n",
    "for i in a :\n",
    "    for j in b:\n",
    "        print(i,j)"
   ]
  },
  {
   "cell_type": "code",
   "execution_count": null,
   "id": "9fd4cff9-6a63-4519-9d2c-97f35a48e0c7",
   "metadata": {},
   "outputs": [],
   "source": [
    "for i in range (2) :\n",
    "    print(i)\n",
    "    for j in range(10,13) :\n",
    "        print(i,j)"
   ]
  },
  {
   "cell_type": "code",
   "execution_count": null,
   "id": "0e652e62-a29f-4165-ab7b-3ad51212c740",
   "metadata": {},
   "outputs": [],
   "source": [
    "for i in range (1,11):\n",
    "    for j in range(1,11):\n",
    "        print(i*j,end = \" \" )\n",
    "    print()"
   ]
  },
  {
   "cell_type": "markdown",
   "id": "b6835ac3-2f94-46c8-a3be-fac21f89bf30",
   "metadata": {},
   "source": [
    "# while loop"
   ]
  },
  {
   "cell_type": "code",
   "execution_count": 12,
   "id": "7df72b10-696c-495f-8e6a-f382aba9f6d1",
   "metadata": {},
   "outputs": [
    {
     "name": "stdout",
     "output_type": "stream",
     "text": [
      "1\n",
      "2\n",
      "3\n",
      "4\n",
      "5\n"
     ]
    }
   ],
   "source": [
    " i = 1\n",
    "while i<=5 :\n",
    "    print(i)\n",
    "    i = i + 1"
   ]
  },
  {
   "cell_type": "code",
   "execution_count": 14,
   "id": "3d6fb1c1-192b-4c8f-aa54-ed38a3a25550",
   "metadata": {},
   "outputs": [],
   "source": [
    " i = 10\n"
   ]
  },
  {
   "cell_type": "code",
   "execution_count": 16,
   "id": "68d22422-8614-4f4c-aed2-414bb6df2194",
   "metadata": {},
   "outputs": [
    {
     "name": "stdout",
     "output_type": "stream",
     "text": [
      "10\n",
      "9\n",
      "8\n",
      "7\n",
      "6\n",
      "5\n",
      "4\n",
      "3\n",
      "2\n",
      "1\n"
     ]
    }
   ],
   "source": [
    "i = 10\n",
    "while i > 0 :\n",
    "    print(i)\n",
    "    i = i - 1"
   ]
  },
  {
   "cell_type": "code",
   "execution_count": 18,
   "id": "74ae137d-60be-480d-bf52-4cf33bff8b3a",
   "metadata": {},
   "outputs": [
    {
     "name": "stdout",
     "output_type": "stream",
     "text": [
      "ram\n",
      "ram\n",
      "ram\n",
      "ram\n",
      "ram\n"
     ]
    }
   ],
   "source": [
    "\n",
    "i = 0\n",
    "while i < 5 :\n",
    "    i = i + 1\n",
    "    print(\"ram\")"
   ]
  },
  {
   "cell_type": "code",
   "execution_count": 20,
   "id": "901a4c12-20e1-4134-b519-af9abb5ab86c",
   "metadata": {},
   "outputs": [
    {
     "name": "stdout",
     "output_type": "stream",
     "text": [
      "ram\n",
      "ram\n",
      "ram\n",
      "ram\n",
      "ram\n",
      "loop ended\n"
     ]
    }
   ],
   "source": [
    "i = 0\n",
    "while i < 5 :\n",
    "    i = i + 1\n",
    "    print(\"ram\")\n",
    "else :\n",
    "    print(\"loop ended\")"
   ]
  },
  {
   "cell_type": "markdown",
   "id": "ac144ba2-675c-4232-9dcb-6bdb8b5784f3",
   "metadata": {},
   "source": [
    "# nested while loop"
   ]
  },
  {
   "cell_type": "code",
   "execution_count": 1,
   "id": "c9ae8fc7-4d9f-45f4-bcf5-961942bf006c",
   "metadata": {},
   "outputs": [
    {
     "name": "stdout",
     "output_type": "stream",
     "text": [
      "1\n",
      "1 5\n",
      "2 6\n",
      "3 7\n",
      "4 8\n",
      "5 9\n",
      "6 10\n"
     ]
    }
   ],
   "source": [
    "a = 1\n",
    "b = 5\n",
    "while a < 5 :\n",
    "    print(a)\n",
    "    while b<=10 :\n",
    "        print(a,b)\n",
    "        b = b+1\n",
    "        a = a+1"
   ]
  },
  {
   "cell_type": "markdown",
   "id": "091a0357-cd51-4dcf-a7e7-4d6d89fd5bd7",
   "metadata": {},
   "source": [
    "# control statements in loops"
   ]
  },
  {
   "cell_type": "code",
   "execution_count": null,
   "id": "9d86e142-bfa6-4a19-87aa-763126a85477",
   "metadata": {},
   "outputs": [],
   "source": [
    "-- pass\n",
    "-- break\n",
    "-- continue"
   ]
  },
  {
   "cell_type": "code",
   "execution_count": 14,
   "id": "e5e96edf-0cab-46b9-b2d9-de4e55410204",
   "metadata": {},
   "outputs": [
    {
     "name": "stdout",
     "output_type": "stream",
     "text": [
      "p\n",
      "y\n",
      "t\n",
      "o\n",
      "n\n"
     ]
    }
   ],
   "source": [
    "# pass\n",
    "for i in \"python\" :\n",
    "    if i == \"h\":\n",
    "     pass\n",
    "    else:\n",
    "        print(i)"
   ]
  },
  {
   "cell_type": "code",
   "execution_count": 20,
   "id": "c87a3e2e-f755-40e4-b986-4c0beac5feb4",
   "metadata": {},
   "outputs": [
    {
     "name": "stdout",
     "output_type": "stream",
     "text": [
      "0\n",
      "1\n",
      "2\n",
      "3\n",
      "4\n"
     ]
    }
   ],
   "source": [
    "# break\n",
    "for i in range(10):\n",
    "    if i == 5 :\n",
    "        break\n",
    "    print(i)"
   ]
  },
  {
   "cell_type": "code",
   "execution_count": 22,
   "id": "9e9db9ec-4d3b-48c6-a65b-7c3b355cd48a",
   "metadata": {},
   "outputs": [
    {
     "name": "stdout",
     "output_type": "stream",
     "text": [
      "0\n",
      "1\n",
      "2\n",
      "3\n",
      "4\n",
      "6\n",
      "7\n",
      "8\n",
      "9\n"
     ]
    }
   ],
   "source": [
    "#contine\n",
    "for i in range(10):\n",
    "    if i ==5:\n",
    "        continue\n",
    "    print(i)"
   ]
  },
  {
   "cell_type": "markdown",
   "id": "37c094ed-18da-4049-8b17-77e8f8b0530a",
   "metadata": {},
   "source": [
    "# 05 - 08 -2024"
   ]
  },
  {
   "cell_type": "markdown",
   "id": "851019d1-b838-42f9-b9ed-5dbee9f502cb",
   "metadata": {},
   "source": [
    "# control statement for while loop"
   ]
  },
  {
   "cell_type": "code",
   "execution_count": 23,
   "id": "06e3a479-93d2-4e77-a3cd-5b657500e28b",
   "metadata": {},
   "outputs": [
    {
     "name": "stdout",
     "output_type": "stream",
     "text": [
      "2\n",
      "3\n",
      "4\n",
      "5\n"
     ]
    }
   ],
   "source": [
    "# pass\n",
    "i = 1\n",
    "while i < 5 :\n",
    "    i = i + 1\n",
    "    pass\n",
    "    print(i)"
   ]
  },
  {
   "cell_type": "code",
   "execution_count": 73,
   "id": "8d71a138-d81b-4523-b558-1956096c1269",
   "metadata": {},
   "outputs": [
    {
     "ename": "IndentationError",
     "evalue": "unindent does not match any outer indentation level (<string>, line 5)",
     "output_type": "error",
     "traceback": [
      "\u001b[1;36m  File \u001b[1;32m<string>:5\u001b[1;36m\u001b[0m\n\u001b[1;33m    if i == 3 :\u001b[0m\n\u001b[1;37m               ^\u001b[0m\n\u001b[1;31mIndentationError\u001b[0m\u001b[1;31m:\u001b[0m unindent does not match any outer indentation level\n"
     ]
    }
   ],
   "source": [
    "# break\n",
    "i = 1\n",
    "while i < 6:\n",
    "    print(i)\n",
    " if i == 3 :\n",
    "     break\n",
    "   i = i + 1"
   ]
  },
  {
   "cell_type": "code",
   "execution_count": 52,
   "id": "34529ccf-b617-4d9a-a6b1-3ac0ebd80a9f",
   "metadata": {},
   "outputs": [
    {
     "name": "stdout",
     "output_type": "stream",
     "text": [
      "1\n",
      "2\n",
      "4\n",
      "5\n",
      "6\n"
     ]
    }
   ],
   "source": [
    " # continue\n",
    "i = 0 \n",
    "while i < 6 :\n",
    "    i = i + 1 \n",
    "    if i == 3 :\n",
    "        continue\n",
    "    print(i)"
   ]
  },
  {
   "cell_type": "markdown",
   "id": "643f7b81-2cb5-412e-b326-471e61f39396",
   "metadata": {},
   "source": [
    "# functions"
   ]
  },
  {
   "cell_type": "code",
   "execution_count": null,
   "id": "e78edabc-8dc5-4756-9408-be60a0f3a16c",
   "metadata": {},
   "outputs": [],
   "source": [
    "A function is a block of organized code written to carry out a specified task.\n",
    "Functions help break our program into smaller and modular chunks for better readability\n",
    "Information can be passed into a function as arguments.\n",
    "5'\n",
    "Parameters are specified after the function name inside the parentheses.\n",
    "S\n",
    "We can add as many parameters as may or may not return data.\n",
    "we want. Parameters must be separated with a comma. A\n",
    "Python a function is defined\n",
    "sing the def keyword"
   ]
  },
  {
   "cell_type": "markdown",
   "id": "8a434606-4196-4e30-8d91-34ae187d0ccd",
   "metadata": {},
   "source": [
    "types \n",
    "### -- in built function\n",
    "### --- user defined function\n",
    "### --- anonymous function"
   ]
  },
  {
   "cell_type": "code",
   "execution_count": 82,
   "id": "9548485f-8fe4-45bb-88ea-987e64b087ef",
   "metadata": {},
   "outputs": [
    {
     "data": {
      "text/plain": [
       "5"
      ]
     },
     "execution_count": 82,
     "metadata": {},
     "output_type": "execute_result"
    }
   ],
   "source": [
    "# basic example\n",
    "def add (a,b):\n",
    "    c = a + b\n",
    "    return c \n",
    "add(2,3)"
   ]
  },
  {
   "cell_type": "code",
   "execution_count": 101,
   "id": "a78c9a91-8047-4b9e-bec5-220e7551606f",
   "metadata": {},
   "outputs": [
    {
     "ename": "IndentationError",
     "evalue": "unexpected indent (3922385661.py, line 2)",
     "output_type": "error",
     "traceback": [
      "\u001b[1;36m  Cell \u001b[1;32mIn[101], line 2\u001b[1;36m\u001b[0m\n\u001b[1;33m    x = -4\u001b[0m\n\u001b[1;37m    ^\u001b[0m\n\u001b[1;31mIndentationError\u001b[0m\u001b[1;31m:\u001b[0m unexpected indent\n"
     ]
    }
   ],
   "source": [
    "# in built function example\n",
    " x = -4\n",
    "abs(x)"
   ]
  },
  {
   "cell_type": "code",
   "execution_count": null,
   "id": "704a4d5e-c695-4972-a111-c2724f8a7273",
   "metadata": {},
   "outputs": [],
   "source": []
  },
  {
   "cell_type": "code",
   "execution_count": 99,
   "id": "eff7e518-fc73-4cfd-9525-7f5b58b5b5e3",
   "metadata": {},
   "outputs": [
    {
     "data": {
      "text/plain": [
       "'hello world'"
      ]
     },
     "execution_count": 99,
     "metadata": {},
     "output_type": "execute_result"
    }
   ],
   "source": [
    "def name ():\n",
    "    return\"hello world\"\n",
    "name()"
   ]
  },
  {
   "cell_type": "code",
   "execution_count": 117,
   "id": "a634b128-2d95-4d8f-8b04-516546109f97",
   "metadata": {},
   "outputs": [
    {
     "data": {
      "text/plain": [
       "20"
      ]
     },
     "execution_count": 117,
     "metadata": {},
     "output_type": "execute_result"
    }
   ],
   "source": [
    "def rectangle(l,b):\n",
    "    c = l*b\n",
    "    return c\n",
    "rectangle (4,5)"
   ]
  },
  {
   "cell_type": "code",
   "execution_count": 121,
   "id": "548fb355-5ee9-4ba6-bde5-a4af9a782d6c",
   "metadata": {},
   "outputs": [
    {
     "data": {
      "text/plain": [
       "16"
      ]
     },
     "execution_count": 121,
     "metadata": {},
     "output_type": "execute_result"
    }
   ],
   "source": [
    "def areaofsquare(a):\n",
    "    c = a*a\n",
    "    return(c)\n",
    "areaofsquare(4)"
   ]
  },
  {
   "cell_type": "code",
   "execution_count": 139,
   "id": "644706c7-c60e-4b62-b449-5b5f40e81e4c",
   "metadata": {},
   "outputs": [
    {
     "ename": "SyntaxError",
     "evalue": "invalid syntax (3703041539.py, line 4)",
     "output_type": "error",
     "traceback": [
      "\u001b[1;36m  Cell \u001b[1;32mIn[139], line 4\u001b[1;36m\u001b[0m\n\u001b[1;33m    else:\u001b[0m\n\u001b[1;37m    ^\u001b[0m\n\u001b[1;31mSyntaxError\u001b[0m\u001b[1;31m:\u001b[0m invalid syntax\n"
     ]
    }
   ],
   "source": [
    "def evenodd(a):\n",
    "    a%2==0\n",
    "    return\"even\"\n",
    "else:\n",
    "return\"odd\"\n",
    "evenodd(10)\n",
    "evenodd(13)"
   ]
  },
  {
   "cell_type": "code",
   "execution_count": 145,
   "id": "8b168538-0483-497d-a366-524076ba1936",
   "metadata": {},
   "outputs": [
    {
     "name": "stdin",
     "output_type": "stream",
     "text": [
      "enter s1: 30\n",
      "enter s2: 40\n",
      "enter s3: 30\n"
     ]
    }
   ],
   "source": [
    "def result(s1,s2,s3):\n",
    "    total= s1+s2+s3\n",
    "    percentage= total/3\n",
    "    if percentage > 50:\n",
    "        print(\"pass\")\n",
    "    else:\n",
    "        print(\"fail\")\n",
    "    return\n",
    "s1 = int(input(\"enter s1:\"))\n",
    "s2 = int(input(\"enter s2:\"))\n",
    "s3 = int(input(\"enter s3:\"))"
   ]
  },
  {
   "cell_type": "code",
   "execution_count": 149,
   "id": "d0149a89-7400-474a-8872-59e5124d35bb",
   "metadata": {},
   "outputs": [],
   "source": [
    "# function without argument and without return value\n",
    "def name():\n",
    "    return\n",
    "name()\n"
   ]
  },
  {
   "cell_type": "code",
   "execution_count": 153,
   "id": "6a55589e-6e6c-4576-af54-cb39ae346650",
   "metadata": {},
   "outputs": [
    {
     "ename": "TypeError",
     "evalue": "name() takes 0 positional arguments but 1 was given",
     "output_type": "error",
     "traceback": [
      "\u001b[1;31m---------------------------------------------------------------------------\u001b[0m",
      "\u001b[1;31mTypeError\u001b[0m                                 Traceback (most recent call last)",
      "Cell \u001b[1;32mIn[153], line 4\u001b[0m\n\u001b[0;32m      2\u001b[0m \u001b[38;5;28;01mdef\u001b[39;00m \u001b[38;5;21mname\u001b[39m():\n\u001b[0;32m      3\u001b[0m     \u001b[38;5;28;01mreturn\u001b[39;00m()\n\u001b[1;32m----> 4\u001b[0m name(\u001b[38;5;124m\"\u001b[39m\u001b[38;5;124mhello\u001b[39m\u001b[38;5;124m\"\u001b[39m)\n",
      "\u001b[1;31mTypeError\u001b[0m: name() takes 0 positional arguments but 1 was given"
     ]
    }
   ],
   "source": [
    "# function with argument and without return value\n",
    "def name():\n",
    "    return()\n",
    "name(\"hello\")"
   ]
  },
  {
   "cell_type": "code",
   "execution_count": 157,
   "id": "8e5b283d-f397-4514-a057-bb0dc996efda",
   "metadata": {},
   "outputs": [
    {
     "data": {
      "text/plain": [
       "'hello world'"
      ]
     },
     "execution_count": 157,
     "metadata": {},
     "output_type": "execute_result"
    }
   ],
   "source": [
    "# funcction without argument and with return\n",
    "def name():\n",
    "    return\"hello world\"\n",
    "name()"
   ]
  },
  {
   "cell_type": "code",
   "execution_count": 163,
   "id": "398c7194-e46f-4730-a933-58b104a80eb6",
   "metadata": {},
   "outputs": [
    {
     "data": {
      "text/plain": [
       "12.571428571428571"
      ]
     },
     "execution_count": 163,
     "metadata": {},
     "output_type": "execute_result"
    }
   ],
   "source": [
    "# function with argument and without return value\n",
    "def areaofcircle(r):\n",
    "    c = 22/7 *(r*r)\n",
    "    return c\n",
    "areaofcircle(2)"
   ]
  },
  {
   "cell_type": "code",
   "execution_count": null,
   "id": "3bb4fe8d-8c9e-42ac-99ee-7081bfdee735",
   "metadata": {},
   "outputs": [],
   "source": []
  }
 ],
 "metadata": {
  "kernelspec": {
   "display_name": "Python 3 (ipykernel)",
   "language": "python",
   "name": "python3"
  },
  "language_info": {
   "codemirror_mode": {
    "name": "ipython",
    "version": 3
   },
   "file_extension": ".py",
   "mimetype": "text/x-python",
   "name": "python",
   "nbconvert_exporter": "python",
   "pygments_lexer": "ipython3",
   "version": "3.12.4"
  }
 },
 "nbformat": 4,
 "nbformat_minor": 5
}
